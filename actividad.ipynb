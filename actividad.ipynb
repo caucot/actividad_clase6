{
 "cells": [
  {
   "cell_type": "markdown",
   "metadata": {},
   "source": [
    "### Clase 6"
   ]
  },
  {
   "cell_type": "markdown",
   "metadata": {},
   "source": [
    "### Calculadora de IMC (Índice de Masa Corporal):\n",
    "\n",
    "Cree una función que calcule el IMC (Índice de Masa Corporal) de una persona a partir de su peso y altura. La función debe recibir como parámetros el peso (en kg) y la altura (en cm) y devolver el valor del IMC.\n",
    "\n",
    "Opcional: Implemente una segunda función que clasifique el IMC según los estándares de la OMS:\n",
    "\n",
    "Bajo peso: IMC < 18.5\n",
    "Peso normal: 18.5 <= IMC < 25\n",
    "Sobrepeso: 25 <= IMC < 30\n",
    "Obesidad: IMC >= 30"
   ]
  },
  {
   "cell_type": "code",
   "execution_count": 8,
   "metadata": {},
   "outputs": [
    {
     "name": "stdout",
     "output_type": "stream",
     "text": [
      "tu indice de masa corporal es de 23.233456176894723\n",
      "Peso normal\n"
     ]
    }
   ],
   "source": [
    "def calculo_masa_corporal(peso,altura):\n",
    "    return peso / (altura ** 2)\n",
    "    \n",
    "def estandares(resultado):\n",
    "    if resultado < 18.5:\n",
    "        print(\"Bajo peso\")\n",
    "    elif 18.5 <= resultado < 25:\n",
    "        print(\"Peso normal\")\n",
    "    elif 25 <= resultado < 30:\n",
    "        print(\"Sobrepeso\")\n",
    "    elif resultado >= 30:\n",
    "        print(\"Obesidad\")\n",
    "    \n",
    "a = float(input('Ingresa tu peso en kilogramos'))\n",
    "b = float(input('Ingresa tu altura en centimetros'))\n",
    "IMC = calculo_masa_corporal(a,b)\n",
    "print(f'tu indice de masa corporal es de {IMC}')\n",
    "estandares(IMC)"
   ]
  },
  {
   "cell_type": "code",
   "execution_count": null,
   "metadata": {},
   "outputs": [],
   "source": []
  }
 ],
 "metadata": {
  "kernelspec": {
   "display_name": "Python 3",
   "language": "python",
   "name": "python3"
  },
  "language_info": {
   "codemirror_mode": {
    "name": "ipython",
    "version": 3
   },
   "file_extension": ".py",
   "mimetype": "text/x-python",
   "name": "python",
   "nbconvert_exporter": "python",
   "pygments_lexer": "ipython3",
   "version": "3.12.0"
  }
 },
 "nbformat": 4,
 "nbformat_minor": 2
}
