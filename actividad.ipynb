{
 "cells": [
  {
   "cell_type": "markdown",
   "metadata": {},
   "source": [
    "### Clase 6"
   ]
  },
  {
   "cell_type": "markdown",
   "metadata": {},
   "source": [
    "### Calculadora de IMC (Índice de Masa Corporal):\n",
    "\n",
    "Cree una función que calcule el IMC (Índice de Masa Corporal) de una persona a partir de su peso y altura. La función debe recibir como parámetros el peso (en kg) y la altura (en cm) y devolver el valor del IMC.\n",
    "\n",
    "Opcional: Implemente una segunda función que clasifique el IMC según los estándares de la OMS:\n",
    "\n",
    "Bajo peso: IMC < 18.5\n",
    "Peso normal: 18.5 <= IMC < 25\n",
    "Sobrepeso: 25 <= IMC < 30\n",
    "Obesidad: IMC >= 30"
   ]
  },
  {
   "cell_type": "code",
   "execution_count": 8,
   "metadata": {},
   "outputs": [
    {
     "name": "stdout",
     "output_type": "stream",
     "text": [
      "tu indice de masa corporal es de 23.233456176894723\n",
      "Peso normal\n"
     ]
    }
   ],
   "source": [
    "def calculo_masa_corporal(peso,altura):\n",
    "    return peso / (altura ** 2)\n",
    "    \n",
    "def estandares(resultado):\n",
    "    if resultado < 18.5:\n",
    "        print(\"Bajo peso\")\n",
    "    elif 18.5 <= resultado < 25:\n",
    "        print(\"Peso normal\")\n",
    "    elif 25 <= resultado < 30:\n",
    "        print(\"Sobrepeso\")\n",
    "    elif resultado >= 30:\n",
    "        print(\"Obesidad\")\n",
    "    \n",
    "a = float(input('Ingresa tu peso en kilogramos'))\n",
    "b = float(input('Ingresa tu altura en centimetros'))\n",
    "IMC = calculo_masa_corporal(a,b)\n",
    "print(f'tu indice de masa corporal es de {IMC}')\n",
    "estandares(IMC)"
   ]
  },
  {
   "cell_type": "markdown",
   "metadata": {},
   "source": [
    "### Analizador de números:\n",
    "\n",
    "Cree una función que reciba un número entero como parámetro y devuelva un diccionario con la siguiente información:\n",
    "\n",
    "- Si el número es par o impar\n",
    "- Si el número es positivo, negativo o cero\n",
    "- Si el número es divisible por 3\n",
    "- Si el número es divisible por 5\n",
    "- Si el número es divisible por 3 y por 5\n",
    "\n",
    "Opcional: Implemente la función utilizando una función lambda para cada una de las verificaciones."
   ]
  },
  {
   "cell_type": "code",
   "execution_count": null,
   "metadata": {},
   "outputs": [],
   "source": [
    "num = 0\n",
    "diccionario = {'numero par o impar': '',\n",
    "               'valor': '',\n",
    "               'divisible': ''}\n",
    "\n",
    "a = lambda num,diccionario: 'numero par' if num % 2 == 0 else 'numero impar'\n",
    "b = lambda num,diccionario: 'es el numero cero' if num == 0 else 'numero negativo' if num < 0  else 'numero positivo' \n",
    "c = lambda num,diccionario: 'es divisible por 3 y 5' if num % 3 == 0 and num % 5 == 0 else 'es divisible por 3' if num % 3 == 0 else 'es divisible por 5'  if num % 5 == 0 else 'no es divisible ni por 3 o 5'\n",
    "\n",
    "\n",
    "diccionario['numero par o impar'] = a(num,diccionario)\n",
    "diccionario['valor'] = b(num,diccionario)\n",
    "diccionario['divisible'] = c(num,diccionario)\n",
    "print(diccionario)"
   ]
  },
  {
   "cell_type": "markdown",
   "metadata": {},
   "source": [
    "### Calculadora de área y perímetro de figuras geométricas:\n",
    "\n",
    "Cree funciones para calcular el área y perímetro de las siguientes figuras geométricas:\n",
    "\n",
    "- Cuadrado\n",
    "- Triángulo (equilátero, rectángulo e isósceles)\n",
    "- Círculo\n",
    "- Rectángulo\n",
    "\n",
    "Cada función debe recibir las dimensiones necesarias como parámetros y devolver el valor correspondiente del área o perímetro."
   ]
  },
  {
   "cell_type": "code",
   "execution_count": 45,
   "metadata": {},
   "outputs": [
    {
     "ename": "IndentationError",
     "evalue": "expected an indented block after 'elif' statement on line 53 (4294387901.py, line 55)",
     "output_type": "error",
     "traceback": [
      "\u001b[1;36m  Cell \u001b[1;32mIn[45], line 55\u001b[1;36m\u001b[0m\n\u001b[1;33m    elif eleccion == 3:\u001b[0m\n\u001b[1;37m    ^\u001b[0m\n\u001b[1;31mIndentationError\u001b[0m\u001b[1;31m:\u001b[0m expected an indented block after 'elif' statement on line 53\n"
     ]
    }
   ],
   "source": [
    "def base_altura():\n",
    "    base = float(input('ingrese la medida de la base'))\n",
    "    altura = float(input('ingrese la medida de la altura'))\n",
    "    return base, altura\n",
    "\n",
    "def cuadrado():\n",
    "    lado = float(input('ingrese la medida del lado del cuadrado'))\n",
    "    area = lado ** 2\n",
    "    perimetro = 4 * lado\n",
    "    return area, perimetro\n",
    "\n",
    "def triangulo_equilatero():\n",
    "    lado1 = float(input('ingrese la medida de un lado'))\n",
    "    area = (lado ** 2 * math.sqrt(3)) / 4\n",
    "    perimetro = 3 * lado\n",
    "    return area, perimetro\n",
    "\n",
    "def triangulo_rectangulo(base,altura):\n",
    "    lado1 = float(input('ingrese la medida de un lado'))\n",
    "    lado2 = float(input('ingrese la medida del segundo lado'))\n",
    "    area = (base * altura) / 2\n",
    "    perimetro = base + lado1 + lado2\n",
    "    return area, perimetro\n",
    "\n",
    "def triangulo_isoceles(base,altura):\n",
    "    lado_igual = float(input('ingrese la medida del lado igual'))\n",
    "    area = (base * altura) / 2\n",
    "    perimetro = lado_igual + base\n",
    "    return area, perimetro\n",
    "\n",
    "def circulo():\n",
    "    altura = float(input('ingrese el tamaño del radio'))\n",
    "    area = math.pi * radio ** 2\n",
    "    perimetro = 2 * math.pi * radio\n",
    "    return area, perimetro\n",
    "\n",
    "def rectangulo(base,altura):\n",
    "    area = (base * altura)\n",
    "    perimetro = 2*(base + altura)\n",
    "    return area, perimetro  \n",
    "\n",
    "eleccion = 0\n",
    "eleccion2 = 0\n",
    "print('Elige una figura para calcular')\n",
    "print('1. Cuadrado')\n",
    "print('2. Triangulo')\n",
    "print('3. Circulo')\n",
    "print('4. Rectangulo')\n",
    "\n",
    "eleccion = 2 #eleccion, me daba error con un input, ni idea\n",
    "if eleccion == 1:\n",
    "    area, perimetro = cuadrado()\n",
    "elif eleccion == 2:\n",
    "    print('1. Equilatero')\n",
    "    print('2. Rectangulo')\n",
    "    print('3. Isoceles')\n",
    "        eleccion2 = 1\n",
    "        if eleccion2 == 1:\n",
    "            area, perimetro = triangulo_equilatero()\n",
    "        elif eleccion2 == 2:\n",
    "            b, a = base_altura()\n",
    "            area, perimetro = triangulo_rectangulo(b,a)\n",
    "        elif eleccion2 == 3: \n",
    "            b, a = base_altura()\n",
    "            area, perimetro = triangulo_isoceles(b,a)\n",
    "        else:   \n",
    "            print('Valor ingresado no valido') \n",
    "            \n",
    "elif eleccion == 3:\n",
    "    area, perimetro = circulo()\n",
    "elif eleccion == 4:\n",
    "    b, a = base_altura()\n",
    "    area, perimetro = rectangulo(b,a)\n",
    "else:\n",
    "    print('Valor ingresado no valido')\n",
    "    \n",
    "    \n",
    "print(f'El valor del area de la figura geometrica es {area}')\n",
    "print(f'El valor del perimetro de la figura geometrica es {perimetro}')"
   ]
  }
 ],
 "metadata": {
  "kernelspec": {
   "display_name": "Python 3",
   "language": "python",
   "name": "python3"
  },
  "language_info": {
   "codemirror_mode": {
    "name": "ipython",
    "version": 3
   },
   "file_extension": ".py",
   "mimetype": "text/x-python",
   "name": "python",
   "nbconvert_exporter": "python",
   "pygments_lexer": "ipython3",
   "version": "3.12.0"
  }
 },
 "nbformat": 4,
 "nbformat_minor": 2
}
