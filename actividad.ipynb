{
 "cells": [
  {
   "cell_type": "markdown",
   "metadata": {},
   "source": [
    "### Clase 6"
   ]
  },
  {
   "cell_type": "markdown",
   "metadata": {},
   "source": [
    "### Calculadora de IMC (Índice de Masa Corporal):\n",
    "\n",
    "Cree una función que calcule el IMC (Índice de Masa Corporal) de una persona a partir de su peso y altura. La función debe recibir como parámetros el peso (en kg) y la altura (en cm) y devolver el valor del IMC.\n",
    "\n",
    "Opcional: Implemente una segunda función que clasifique el IMC según los estándares de la OMS:\n",
    "\n",
    "Bajo peso: IMC < 18.5\n",
    "Peso normal: 18.5 <= IMC < 25\n",
    "Sobrepeso: 25 <= IMC < 30\n",
    "Obesidad: IMC >= 30"
   ]
  },
  {
   "cell_type": "code",
   "execution_count": 8,
   "metadata": {},
   "outputs": [
    {
     "name": "stdout",
     "output_type": "stream",
     "text": [
      "tu indice de masa corporal es de 23.233456176894723\n",
      "Peso normal\n"
     ]
    }
   ],
   "source": [
    "def calculo_masa_corporal(peso,altura):\n",
    "    return peso / (altura ** 2)\n",
    "    \n",
    "def estandares(resultado):\n",
    "    if resultado < 18.5:\n",
    "        print(\"Bajo peso\")\n",
    "    elif 18.5 <= resultado < 25:\n",
    "        print(\"Peso normal\")\n",
    "    elif 25 <= resultado < 30:\n",
    "        print(\"Sobrepeso\")\n",
    "    elif resultado >= 30:\n",
    "        print(\"Obesidad\")\n",
    "    \n",
    "a = float(input('Ingresa tu peso en kilogramos'))\n",
    "b = float(input('Ingresa tu altura en centimetros'))\n",
    "IMC = calculo_masa_corporal(a,b)\n",
    "print(f'tu indice de masa corporal es de {IMC}')\n",
    "estandares(IMC)"
   ]
  },
  {
   "cell_type": "markdown",
   "metadata": {},
   "source": [
    "### Analizador de números:\n",
    "\n",
    "Cree una función que reciba un número entero como parámetro y devuelva un diccionario con la siguiente información:\n",
    "\n",
    "- Si el número es par o impar\n",
    "- Si el número es positivo, negativo o cero\n",
    "- Si el número es divisible por 3\n",
    "- Si el número es divisible por 5\n",
    "- Si el número es divisible por 3 y por 5\n",
    "\n",
    "Opcional: Implemente la función utilizando una función lambda para cada una de las verificaciones."
   ]
  },
  {
   "cell_type": "code",
   "execution_count": 39,
   "metadata": {},
   "outputs": [
    {
     "name": "stdout",
     "output_type": "stream",
     "text": [
      "{'numero par o impar': 'numero par', 'valor': 'es el numero cero', 'divisible': 'es divisible por 3 y 5'}\n"
     ]
    }
   ],
   "source": [
    "num = 0\n",
    "diccionario = {'numero par o impar': '',\n",
    "               'valor': '',\n",
    "               'divisible': ''}\n",
    "\n",
    "a = lambda num,diccionario: 'numero par' if num % 2 == 0 else 'numero impar'\n",
    "b = lambda num,diccionario: 'es el numero cero' if num == 0 else 'numero negativo' if num < 0  else 'numero positivo' \n",
    "c = lambda num,diccionario: 'es divisible por 3 y 5' if num % 3 == 0 and num % 5 == 0 else 'es divisible por 3' if num % 3 == 0 else 'es divisible por 5'  if num % 5 == 0 else 'no es divisible ni por 3 o 5'\n",
    "\n",
    "\n",
    "diccionario['numero par o impar'] = a(num,diccionario)\n",
    "diccionario['valor'] = b(num,diccionario)\n",
    "diccionario['divisible'] = c(num,diccionario)\n",
    "print(diccionario)"
   ]
  }
 ],
 "metadata": {
  "kernelspec": {
   "display_name": "Python 3",
   "language": "python",
   "name": "python3"
  },
  "language_info": {
   "codemirror_mode": {
    "name": "ipython",
    "version": 3
   },
   "file_extension": ".py",
   "mimetype": "text/x-python",
   "name": "python",
   "nbconvert_exporter": "python",
   "pygments_lexer": "ipython3",
   "version": "3.12.0"
  }
 },
 "nbformat": 4,
 "nbformat_minor": 2
}
